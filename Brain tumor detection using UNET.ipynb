{
 "cells": [
  {
   "cell_type": "code",
   "execution_count": 1,
   "id": "0b3e609a",
   "metadata": {
    "ExecuteTime": {
     "end_time": "2023-12-29T21:28:14.286270Z",
     "start_time": "2023-12-29T21:28:08.599111Z"
    }
   },
   "outputs": [],
   "source": [
    "import os\n",
    "\n",
    "os.environ[\"TF_CPP_MIN_LOG_LEVEL\"] = \"2\"\n",
    "\n",
    "import numpy as np\n",
    "import cv2\n",
    "from glob import glob\n",
    "from sklearn.utils import shuffle\n",
    "import tensorflow as tf\n",
    "from tensorflow.keras.callbacks import ModelCheckpoint, CSVLogger, ReduceLROnPlateau, EarlyStopping, TensorBoard\n",
    "from tensorflow.keras.optimizers import Adam\n",
    "from sklearn.model_selection import train_test_split\n",
    "from inception_unet import bulid_model\n"
   ]
  },
  {
   "cell_type": "markdown",
   "id": "75400eee",
   "metadata": {},
   "source": [
    "## Dice loss"
   ]
  },
  {
   "cell_type": "code",
   "execution_count": 2,
   "id": "31873244",
   "metadata": {
    "ExecuteTime": {
     "end_time": "2023-12-29T21:28:14.298866Z",
     "start_time": "2023-12-29T21:28:14.292257Z"
    },
    "code_folding": []
   },
   "outputs": [],
   "source": [
    "def dic_coeff(y_true,y_hat):\n",
    "    smooth = 1e-15\n",
    "    y_true = tf.keras.layers.Flatten()(y_true)\n",
    "    y_hat = tf.keras.layers.Flatten()(y_hat)\n",
    "    intersection = tf.reduce_sum(y_hat*y_true)\n",
    "    return (2*intersection + smooth)/(tf.reduce_sum(y_true) + tf.reduce_sum(y_hat))\n",
    "    \n",
    "                                      "
   ]
  },
  {
   "cell_type": "code",
   "execution_count": 3,
   "id": "2f5018b8",
   "metadata": {
    "ExecuteTime": {
     "end_time": "2023-12-29T21:28:14.310071Z",
     "start_time": "2023-12-29T21:28:14.304853Z"
    }
   },
   "outputs": [],
   "source": [
    "def dice_loss(y_true,y_hat):\n",
    "    return 1 - dic_coeff(y_true,y_hat)"
   ]
  },
  {
   "cell_type": "markdown",
   "id": "58aa9904",
   "metadata": {},
   "source": [
    "## Read data\n"
   ]
  },
  {
   "cell_type": "code",
   "execution_count": 4,
   "id": "bb52cc68",
   "metadata": {
    "ExecuteTime": {
     "end_time": "2023-12-29T21:33:56.024640Z",
     "start_time": "2023-12-29T21:33:38.095383Z"
    }
   },
   "outputs": [],
   "source": [
    "dataset_path = r\"F:\\archive (4)\\images\"\n",
    "size = 256\n",
    "x_data = []\n",
    "for img in os.listdir(dataset_path):\n",
    "    img_path = os.path.join(dataset_path, img)\n",
    "    img_data = cv2.imread(img_path,cv2.IMREAD_COLOR)\n",
    "    img_data = cv2.resize(img_data,(size,size))\n",
    "    img_data = img_data/255.0\n",
    "    img_data = img_data.astype(np.float32)\n",
    "    x_data.append(img_data)"
   ]
  },
  {
   "cell_type": "code",
   "execution_count": 5,
   "id": "a89c98b7",
   "metadata": {
    "ExecuteTime": {
     "end_time": "2023-12-29T21:36:51.610699Z",
     "start_time": "2023-12-29T21:36:35.848907Z"
    }
   },
   "outputs": [],
   "source": [
    "dataset_path = r\"F:\\archive (4)\\masks\"\n",
    "size = 256\n",
    "y_data = []\n",
    "for mask in os.listdir(dataset_path):\n",
    "    mask_path = os.path.join(dataset_path, mask)\n",
    "    mask_data = cv2.imread(mask_path,cv2.IMREAD_GRAYSCALE)\n",
    "    mask_data = cv2.resize(mask_data,(size,size))\n",
    "    mask_data = mask_data/255.0\n",
    "    mask_data = np.expand_dims(mask_data, axis=-1)\n",
    "    mask_data = mask_data.astype(np.float32)\n",
    "    y_data.append(mask_data)    "
   ]
  },
  {
   "cell_type": "code",
   "execution_count": 7,
   "id": "bd79aaae",
   "metadata": {
    "ExecuteTime": {
     "end_time": "2023-12-29T21:38:32.299461Z",
     "start_time": "2023-12-29T21:38:32.277995Z"
    }
   },
   "outputs": [
    {
     "ename": "MemoryError",
     "evalue": "Unable to allocate 2.24 GiB for an array with shape (1, 3064, 256, 256, 3) and data type float32",
     "output_type": "error",
     "traceback": [
      "\u001b[1;31m---------------------------------------------------------------------------\u001b[0m",
      "\u001b[1;31mMemoryError\u001b[0m                               Traceback (most recent call last)",
      "Cell \u001b[1;32mIn[7], line 1\u001b[0m\n\u001b[1;32m----> 1\u001b[0m x_data \u001b[38;5;241m=\u001b[39m np\u001b[38;5;241m.\u001b[39marray([x_data])\n\u001b[0;32m      2\u001b[0m y_data \u001b[38;5;241m=\u001b[39m np\u001b[38;5;241m.\u001b[39marray([y_data])\n",
      "\u001b[1;31mMemoryError\u001b[0m: Unable to allocate 2.24 GiB for an array with shape (1, 3064, 256, 256, 3) and data type float32"
     ]
    }
   ],
   "source": [
    "x_data = np.array([x_data])\n",
    "y_data = np.array([y_data])"
   ]
  },
  {
   "cell_type": "code",
   "execution_count": null,
   "id": "81554820",
   "metadata": {},
   "outputs": [],
   "source": []
  }
 ],
 "metadata": {
  "kernelspec": {
   "display_name": "Python 3 (ipykernel)",
   "language": "python",
   "name": "python3"
  },
  "language_info": {
   "codemirror_mode": {
    "name": "ipython",
    "version": 3
   },
   "file_extension": ".py",
   "mimetype": "text/x-python",
   "name": "python",
   "nbconvert_exporter": "python",
   "pygments_lexer": "ipython3",
   "version": "3.11.3"
  }
 },
 "nbformat": 4,
 "nbformat_minor": 5
}
